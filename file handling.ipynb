{
 "cells": [
  {
   "cell_type": "code",
   "execution_count": 14,
   "id": "cfdf5351-03cf-4510-9abe-213d760ec2b7",
   "metadata": {},
   "outputs": [],
   "source": [
    "f=open(\"sample.txt\", \"w\")\n",
    "f.write(\"learn python programming\\n\")\n",
    "f.close()"
   ]
  },
  {
   "cell_type": "code",
   "execution_count": 16,
   "id": "2092013a-c5b5-4989-b340-bde813e1c910",
   "metadata": {},
   "outputs": [],
   "source": [
    "f=open(\"sample.txt\", \"a\")\n",
    "f.write(\"learn c programming\\n\")\n",
    "f.close()"
   ]
  },
  {
   "cell_type": "code",
   "execution_count": 17,
   "id": "72504882-5768-4520-aa5e-3f47bf0c4e84",
   "metadata": {},
   "outputs": [],
   "source": [
    "f=open(\"sample.txt\", \"a\")\n",
    "f.write(\"learn c++ programming\\n\")\n",
    "f.close()"
   ]
  },
  {
   "cell_type": "code",
   "execution_count": 18,
   "id": "c04e7eee-4331-4ade-baf2-8ad75860cd3e",
   "metadata": {},
   "outputs": [],
   "source": [
    "f=open(\"sample.txt\", \"a\")\n",
    "f.write(\"learn java programming\\n\")\n",
    "f.close()"
   ]
  },
  {
   "cell_type": "code",
   "execution_count": 10,
   "id": "f60918b3-ccda-487f-9c9e-8dd0cc834b63",
   "metadata": {},
   "outputs": [],
   "source": [
    "f=open(\"sample.docx\", \"w\")\n",
    "f.close()"
   ]
  },
  {
   "cell_type": "code",
   "execution_count": null,
   "id": "2edac01e-24a9-48ef-a6f9-7023fc56a7a4",
   "metadata": {},
   "outputs": [],
   "source": [
    "f=open(\"sample.txt\", \"r\")\n",
    "read=f.read()\n",
    "p\n",
    "f.close()"
   ]
  },
  {
   "cell_type": "code",
   "execution_count": null,
   "id": "b421c72e-6bd6-4ede-8443-f54f4ed2f270",
   "metadata": {},
   "outputs": [],
   "source": []
  },
  {
   "cell_type": "code",
   "execution_count": null,
   "id": "ebcc6910-87a5-419c-bfaa-b0c2f6ab30e2",
   "metadata": {},
   "outputs": [],
   "source": []
  }
 ],
 "metadata": {
  "kernelspec": {
   "display_name": "Python 3 (ipykernel)",
   "language": "python",
   "name": "python3"
  },
  "language_info": {
   "codemirror_mode": {
    "name": "ipython",
    "version": 3
   },
   "file_extension": ".py",
   "mimetype": "text/x-python",
   "name": "python",
   "nbconvert_exporter": "python",
   "pygments_lexer": "ipython3",
   "version": "3.12.7"
  }
 },
 "nbformat": 4,
 "nbformat_minor": 5
}
