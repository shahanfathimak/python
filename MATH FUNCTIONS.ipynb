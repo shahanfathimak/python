{
 "cells": [
  {
   "cell_type": "code",
   "execution_count": null,
   "id": "079db659-93af-45f5-9e58-c8aeffe06f0b",
   "metadata": {},
   "outputs": [],
   "source": [
    "# MATH FUNCTIONS"
   ]
  },
  {
   "cell_type": "code",
   "execution_count": 1,
   "id": "e777a2c5-5a07-499c-b185-8da3fa42d80d",
   "metadata": {},
   "outputs": [
    {
     "name": "stdout",
     "output_type": "stream",
     "text": [
      "4\n"
     ]
    }
   ],
   "source": [
    "a=min(12,14,4,18,90)\n",
    "print(a)"
   ]
  },
  {
   "cell_type": "code",
   "execution_count": 2,
   "id": "9f82d267-24db-49ea-b76f-18cbe6c0be8e",
   "metadata": {},
   "outputs": [
    {
     "name": "stdout",
     "output_type": "stream",
     "text": [
      "90\n"
     ]
    }
   ],
   "source": [
    "a=max(12,14,4,18,90)\n",
    "print(a)"
   ]
  },
  {
   "cell_type": "code",
   "execution_count": 3,
   "id": "01513b06-62b6-408f-a194-7657b0d89647",
   "metadata": {},
   "outputs": [
    {
     "name": "stdout",
     "output_type": "stream",
     "text": [
      "8\n"
     ]
    }
   ],
   "source": [
    "a=pow(2,3) #2**3\n",
    "print(a)"
   ]
  },
  {
   "cell_type": "code",
   "execution_count": 4,
   "id": "ccfe42b8-ba74-43ea-bea5-b2297a552397",
   "metadata": {},
   "outputs": [
    {
     "name": "stdout",
     "output_type": "stream",
     "text": [
      "3.141592653589793\n"
     ]
    }
   ],
   "source": [
    "import math \n",
    "a=math.pi\n",
    "print(a)"
   ]
  },
  {
   "cell_type": "code",
   "execution_count": 5,
   "id": "89919951-f2d7-44f8-b1b0-bd3227bb52ca",
   "metadata": {},
   "outputs": [
    {
     "name": "stdout",
     "output_type": "stream",
     "text": [
      "3.0\n"
     ]
    }
   ],
   "source": [
    "import math \n",
    "a=math.sqrt(9)\n",
    "print(a)"
   ]
  },
  {
   "cell_type": "code",
   "execution_count": 6,
   "id": "421fccfb-563d-4461-8e72-268b15bebc31",
   "metadata": {},
   "outputs": [
    {
     "name": "stdout",
     "output_type": "stream",
     "text": [
      "4\n"
     ]
    }
   ],
   "source": [
    "import math \n",
    "a=math.gcd(8,12)\n",
    "print(a)"
   ]
  },
  {
   "cell_type": "code",
   "execution_count": 2,
   "id": "73f61e22-00ef-4c96-af67-e1467954e140",
   "metadata": {},
   "outputs": [
    {
     "name": "stdout",
     "output_type": "stream",
     "text": [
      "120\n"
     ]
    }
   ],
   "source": [
    "import math \n",
    "a=math.factorial(5)\n",
    "print(a)"
   ]
  },
  {
   "cell_type": "code",
   "execution_count": 10,
   "id": "83b6d2a6-48ea-4b57-a260-9d325cbe975d",
   "metadata": {},
   "outputs": [
    {
     "name": "stdout",
     "output_type": "stream",
     "text": [
      "9\n"
     ]
    }
   ],
   "source": [
    "import math \n",
    "a=math.ceil(8.12) # Ceiling (round up)\n",
    "print(a)"
   ]
  },
  {
   "cell_type": "code",
   "execution_count": 8,
   "id": "b1a7f619-e457-43d4-9ac2-9af157014f72",
   "metadata": {},
   "outputs": [
    {
     "name": "stdout",
     "output_type": "stream",
     "text": [
      "8\n"
     ]
    }
   ],
   "source": [
    "import math \n",
    "a=math.floor(8.12) # floor (round down)\n",
    "print(a)"
   ]
  },
  {
   "cell_type": "code",
   "execution_count": 9,
   "id": "843b8a2f-945a-4cec-8489-1ab6a302390e",
   "metadata": {},
   "outputs": [
    {
     "name": "stdout",
     "output_type": "stream",
     "text": [
      "10.0\n"
     ]
    }
   ],
   "source": [
    "import math \n",
    "a=math.fabs(-10) # Absolute value\n",
    "print(a)"
   ]
  },
  {
   "cell_type": "code",
   "execution_count": null,
   "id": "7943b795-ff4b-45ae-aa1b-5fd69de1fb5c",
   "metadata": {},
   "outputs": [],
   "source": [
    "# TRIGNOMETRIC FUNCTIONS"
   ]
  },
  {
   "cell_type": "code",
   "execution_count": 11,
   "id": "60d77bc5-be9c-4cb9-bb00-34444ae25be1",
   "metadata": {},
   "outputs": [
    {
     "name": "stdout",
     "output_type": "stream",
     "text": [
      "1.0\n",
      "1.0\n",
      "0.9999999999999999\n",
      "180.0\n",
      "3.141592653589793\n"
     ]
    }
   ],
   "source": [
    "print(math.sin(math.pi/2))  # Sine: 1.0\n",
    "print(math.cos(0))          # Cosine: 1.0\n",
    "print(math.tan(math.pi/4))  # Tangent: 1.0\n",
    "print(math.degrees(math.pi))  # Convert radians to degrees: 180.0\n",
    "print(math.radians(180))     # Convert degrees to radians: 3.141592653589793"
   ]
  },
  {
   "cell_type": "code",
   "execution_count": null,
   "id": "1d19a88d-1a58-41b2-8ac1-a91c41450139",
   "metadata": {},
   "outputs": [],
   "source": [
    "# Logarithmic and Exponential Functions"
   ]
  },
  {
   "cell_type": "code",
   "execution_count": 12,
   "id": "4183bfb2-a2dd-4273-822f-795fbe7d8367",
   "metadata": {},
   "outputs": [
    {
     "name": "stdout",
     "output_type": "stream",
     "text": [
      "2.302585092994046\n",
      "2.0\n",
      "7.38905609893065\n"
     ]
    }
   ],
   "source": [
    "print(math.log(10))     \n",
    "print(math.log10(100)) \n",
    "print(math.exp(2))      "
   ]
  },
  {
   "cell_type": "code",
   "execution_count": null,
   "id": "c63c9e1c-fd10-47c8-bb4a-47d0c5a7d029",
   "metadata": {},
   "outputs": [],
   "source": [
    "#  Constants"
   ]
  },
  {
   "cell_type": "code",
   "execution_count": 13,
   "id": "a6c9f5e0-2f7e-4e35-bbca-10f586756329",
   "metadata": {},
   "outputs": [
    {
     "name": "stdout",
     "output_type": "stream",
     "text": [
      "3.141592653589793\n",
      "2.718281828459045\n"
     ]
    }
   ],
   "source": [
    "print(math.pi)   \n",
    "print(math.e)   "
   ]
  },
  {
   "cell_type": "code",
   "execution_count": 1,
   "id": "cc1a54d8-e221-4031-93f2-429641caea88",
   "metadata": {},
   "outputs": [
    {
     "ename": "NameError",
     "evalue": "name 'math' is not defined",
     "output_type": "error",
     "traceback": [
      "\u001b[1;31m---------------------------------------------------------------------------\u001b[0m",
      "\u001b[1;31mNameError\u001b[0m                                 Traceback (most recent call last)",
      "Cell \u001b[1;32mIn[1], line 1\u001b[0m\n\u001b[1;32m----> 1\u001b[0m \u001b[38;5;28mprint\u001b[39m(math\u001b[38;5;241m.\u001b[39mfactorial(\u001b[38;5;241m5\u001b[39m))\n",
      "\u001b[1;31mNameError\u001b[0m: name 'math' is not defined"
     ]
    }
   ],
   "source": []
  },
  {
   "cell_type": "code",
   "execution_count": null,
   "id": "04dc380f-e478-47fd-b8f0-adf0f04e1c27",
   "metadata": {},
   "outputs": [],
   "source": []
  }
 ],
 "metadata": {
  "kernelspec": {
   "display_name": "Python 3 (ipykernel)",
   "language": "python",
   "name": "python3"
  },
  "language_info": {
   "codemirror_mode": {
    "name": "ipython",
    "version": 3
   },
   "file_extension": ".py",
   "mimetype": "text/x-python",
   "name": "python",
   "nbconvert_exporter": "python",
   "pygments_lexer": "ipython3",
   "version": "3.12.7"
  }
 },
 "nbformat": 4,
 "nbformat_minor": 5
}
