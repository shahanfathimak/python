{
 "cells": [
  {
   "cell_type": "code",
   "execution_count": 1,
   "id": "8082a071-8657-4377-a898-f24b8c271fc9",
   "metadata": {},
   "outputs": [
    {
     "name": "stdout",
     "output_type": "stream",
     "text": [
      "Hello  john\n"
     ]
    }
   ],
   "source": [
    "import mymodule\n",
    "mymodule.message(\"john\")"
   ]
  },
  {
   "cell_type": "code",
   "execution_count": null,
   "id": "795c60de-1903-4df3-b5e2-85f77cdada07",
   "metadata": {},
   "outputs": [],
   "source": []
  }
 ],
 "metadata": {
  "kernelspec": {
   "display_name": "Python 3 (ipykernel)",
   "language": "python",
   "name": "python3"
  },
  "language_info": {
   "codemirror_mode": {
    "name": "ipython",
    "version": 3
   },
   "file_extension": ".py",
   "mimetype": "text/x-python",
   "name": "python",
   "nbconvert_exporter": "python",
   "pygments_lexer": "ipython3",
   "version": "3.12.7"
  }
 },
 "nbformat": 4,
 "nbformat_minor": 5
}
