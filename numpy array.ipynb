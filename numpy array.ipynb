{
 "cells": [
  {
   "cell_type": "code",
   "execution_count": 18,
   "id": "f4d53bbc-cebd-41de-9ee3-54043ba1445f",
   "metadata": {},
   "outputs": [],
   "source": [
    "#ONE DIMENSTIONAL ARRAY"
   ]
  },
  {
   "cell_type": "code",
   "execution_count": 22,
   "id": "4e01ae3c-5ccf-4212-a3db-a20378ecd95d",
   "metadata": {},
   "outputs": [
    {
     "name": "stdout",
     "output_type": "stream",
     "text": [
      "[1 2 3 4]\n",
      "1\n"
     ]
    }
   ],
   "source": [
    "import numpy as np\n",
    "list1=[1,2,3,4]\n",
    "arr1=np.array(list1)\n",
    "print(arr1)\n",
    "print(arr1.ndim)"
   ]
  },
  {
   "cell_type": "code",
   "execution_count": 4,
   "id": "e4025ae6-c133-4e03-bb5d-be9b26157a42",
   "metadata": {},
   "outputs": [
    {
     "name": "stdout",
     "output_type": "stream",
     "text": [
      "[2 4 6 8]\n"
     ]
    }
   ],
   "source": [
    "list1=[1,2,3,4]\n"
   ]
  },
  {
   "cell_type": "code",
   "execution_count": 5,
   "id": "a71a6502-ffa1-48b4-acc3-1443bb2c4b67",
   "metadata": {},
   "outputs": [
    {
     "name": "stdout",
     "output_type": "stream",
     "text": [
      "[1, 2, 3, 4, 1, 2, 3, 4]\n"
     ]
    }
   ],
   "source": [
    "print(list1*2)"
   ]
  },
  {
   "cell_type": "code",
   "execution_count": 6,
   "id": "8354edeb-eee9-48b4-b0f0-f43c304a9db7",
   "metadata": {},
   "outputs": [
    {
     "data": {
      "text/plain": [
       "numpy.ndarray"
      ]
     },
     "execution_count": 6,
     "metadata": {},
     "output_type": "execute_result"
    }
   ],
   "source": [
    "type(arr1)"
   ]
  },
  {
   "cell_type": "code",
   "execution_count": 20,
   "id": "c4058e50-b7ef-48f6-ada7-578763a130b3",
   "metadata": {},
   "outputs": [
    {
     "name": "stdout",
     "output_type": "stream",
     "text": [
      "[10 20 30 40]\n"
     ]
    },
    {
     "data": {
      "text/plain": [
       "(4,)"
      ]
     },
     "execution_count": 20,
     "metadata": {},
     "output_type": "execute_result"
    }
   ],
   "source": [
    "arr2=np.array([10,20,30,40])\n",
    "print(arr2)\n",
    "arr2.shape"
   ]
  },
  {
   "cell_type": "code",
   "execution_count": null,
   "id": "e3934fac-0eee-4ee1-83e4-6e84b667c040",
   "metadata": {},
   "outputs": [],
   "source": [
    "#TWO DIMENSIONAL ARRAY"
   ]
  },
  {
   "cell_type": "code",
   "execution_count": 23,
   "id": "4f92584a-ed47-48ab-b25d-e36e41b3ee38",
   "metadata": {},
   "outputs": [
    {
     "name": "stdout",
     "output_type": "stream",
     "text": [
      "[[ 1  2  3]\n",
      " [ 4  5  6]\n",
      " [ 7  8  9]\n",
      " [10 11 12]]\n",
      "2\n",
      "12\n",
      "(4, 3)\n"
     ]
    }
   ],
   "source": [
    "arr3=np.array([[1,2,3],[4,5,6],[7,8,9],[10,11,12]])\n",
    "print(arr3)\n",
    "print(arr3.ndim)\n",
    "print(arr3.size)\n",
    "print(arr3.shape)"
   ]
  },
  {
   "cell_type": "code",
   "execution_count": 9,
   "id": "0fbd7312-2008-49c7-974f-343dd9a0db50",
   "metadata": {},
   "outputs": [
    {
     "name": "stdout",
     "output_type": "stream",
     "text": [
      "[[12 13 14]\n",
      " [14 15 16]]\n",
      "6\n"
     ]
    }
   ],
   "source": [
    "arr4=np.array([[12,13,14],[14,15,16]])\n",
    "print(arr4)\n",
    "print(arr4.size)"
   ]
  },
  {
   "cell_type": "code",
   "execution_count": null,
   "id": "ad051170-d53c-4fda-bff7-dbaebd4f01dd",
   "metadata": {},
   "outputs": [],
   "source": [
    "#THREE DIMENSIONAL ARRAY"
   ]
  },
  {
   "cell_type": "code",
   "execution_count": 14,
   "id": "29206b07-68b3-41ae-9cbb-06b98601aa06",
   "metadata": {},
   "outputs": [
    {
     "name": "stdout",
     "output_type": "stream",
     "text": [
      "[[[ 1  2  3]\n",
      "  [ 4  5  6]\n",
      "  [ 7  8  9]]\n",
      "\n",
      " [[10 15 20]\n",
      "  [30 40 50]\n",
      "  [60 70 80]]\n",
      "\n",
      " [[34 56 78]\n",
      "  [18 19 20]\n",
      "  [22 33 44]]]\n",
      "3\n",
      "27\n",
      "(3, 3, 3)\n"
     ]
    }
   ],
   "source": [
    "arr5=np.array([[[1,2,3],[4,5,6],[7,8,9]],[[10,15,20],[30,40,50],[60,70,80]],[[34,56,78],[18,19,20],[22,33,44]]])\n",
    "print(arr5)\n",
    "print(arr5.ndim)\n",
    "print(arr5.size)\n",
    "print(arr5.shape)\n",
    "\n"
   ]
  },
  {
   "cell_type": "code",
   "execution_count": 19,
   "id": "b31c9cd7-fc72-4c2b-bb68-17c77b38903c",
   "metadata": {},
   "outputs": [],
   "source": [
    "#RESHAPE AN ARRAY"
   ]
  },
  {
   "cell_type": "code",
   "execution_count": 24,
   "id": "b18c3dd9-9347-4de3-98a9-10ee29a43afb",
   "metadata": {},
   "outputs": [],
   "source": [
    "#1D TO 2D ARRAY"
   ]
  },
  {
   "cell_type": "code",
   "execution_count": 26,
   "id": "5766a9f9-7805-4052-a81f-fba3eca20d4a",
   "metadata": {},
   "outputs": [
    {
     "name": "stdout",
     "output_type": "stream",
     "text": [
      "[[1 2]\n",
      " [3 4]]\n"
     ]
    }
   ],
   "source": [
    "arr6=arr1.reshape(2,2)\n",
    "print(arr6)"
   ]
  },
  {
   "cell_type": "code",
   "execution_count": null,
   "id": "9e608406-ea16-4b12-9c47-dc72d400a8dc",
   "metadata": {},
   "outputs": [],
   "source": [
    "#1D TO 3D ARRAY"
   ]
  },
  {
   "cell_type": "code",
   "execution_count": 31,
   "id": "13136db9-ede1-4f2f-99ff-4317434ed9d2",
   "metadata": {},
   "outputs": [
    {
     "name": "stdout",
     "output_type": "stream",
     "text": [
      "[[[1 2]\n",
      "  [3 4]]\n",
      "\n",
      " [[5 6]\n",
      "  [7 8]]]\n"
     ]
    }
   ],
   "source": [
    "arr7=np.array([1,2,3,4,5,6,7,8])\n",
    "arr8=arr7.reshape(2,2,2)\n",
    "print(arr8)"
   ]
  },
  {
   "cell_type": "code",
   "execution_count": null,
   "id": "277711c1-56b9-499f-9d25-327758ffe1e9",
   "metadata": {},
   "outputs": [],
   "source": [
    "#2D TO 3D ARRAY"
   ]
  },
  {
   "cell_type": "code",
   "execution_count": 34,
   "id": "4873e693-418b-4dab-8e3c-90e4a26fee5a",
   "metadata": {},
   "outputs": [
    {
     "name": "stdout",
     "output_type": "stream",
     "text": [
      "[[[1 2]\n",
      "  [3 4]]\n",
      "\n",
      " [[5 6]\n",
      "  [6 7]]]\n"
     ]
    }
   ],
   "source": [
    "arr8=np.array([[1,2],[3,4],[5,6],[6,7]])\n",
    "arr9=arr8.reshape(2,2,2)\n",
    "print(arr9)"
   ]
  },
  {
   "cell_type": "code",
   "execution_count": null,
   "id": "17db4b55-9804-4b89-8fe7-41dd78f8eaae",
   "metadata": {},
   "outputs": [],
   "source": [
    "#2D TO 2D ARRAY"
   ]
  },
  {
   "cell_type": "code",
   "execution_count": 37,
   "id": "64e85773-1ca3-4ea0-b82b-a713a2587b05",
   "metadata": {},
   "outputs": [
    {
     "name": "stdout",
     "output_type": "stream",
     "text": [
      "[[1 2 3 4]\n",
      " [5 6 6 7]]\n"
     ]
    }
   ],
   "source": [
    "arr10=arr8.reshape(2,4)\n",
    "print(arr10)"
   ]
  },
  {
   "cell_type": "code",
   "execution_count": null,
   "id": "a7e0e93e-2a48-407f-b15d-67161700d1f3",
   "metadata": {},
   "outputs": [],
   "source": [
    "#3D TO 3D ARRAY"
   ]
  },
  {
   "cell_type": "code",
   "execution_count": 41,
   "id": "825836cd-6bf5-4281-b1c0-efbd6469a9dc",
   "metadata": {},
   "outputs": [
    {
     "name": "stdout",
     "output_type": "stream",
     "text": [
      "[[[ 1  2  3]\n",
      "  [ 4  5  6]\n",
      "  [ 7  8  9]\n",
      "  [10 15 20]\n",
      "  [30 40 50]\n",
      "  [60 70 80]\n",
      "  [34 56 78]\n",
      "  [18 19 20]\n",
      "  [22 33 44]]]\n"
     ]
    }
   ],
   "source": [
    "arr11=arr5.reshape(1,9,3)\n",
    "print(arr11)\n"
   ]
  },
  {
   "cell_type": "code",
   "execution_count": 42,
   "id": "b4d16c71-4307-410f-8ef0-34c5b261e458",
   "metadata": {},
   "outputs": [
    {
     "name": "stdout",
     "output_type": "stream",
     "text": [
      "[12 13 14 14 15 16]\n"
     ]
    }
   ],
   "source": [
    "arr12=arr4.reshape(-1)\n",
    "print(arr12)"
   ]
  },
  {
   "cell_type": "code",
   "execution_count": null,
   "id": "d14e7279-ba10-4f6b-891e-32a48b265e9b",
   "metadata": {},
   "outputs": [],
   "source": [
    "#FIND DATA TYPES OF AN ARRAY"
   ]
  },
  {
   "cell_type": "code",
   "execution_count": 3,
   "id": "9f710dac-41a1-4d2c-9f61-4da6c3ed39d1",
   "metadata": {},
   "outputs": [
    {
     "name": "stdout",
     "output_type": "stream",
     "text": [
      "int32\n",
      "float64\n",
      "<U1\n"
     ]
    }
   ],
   "source": [
    "import numpy as np\n",
    "arr13=np.array([1,2,3,4,5,])\n",
    "print(arr13.dtype)\n",
    "arr14=np.array([1.2,2.2,3.3,4.4])\n",
    "print(arr14.dtype)\n",
    "arr15=np.array(['a','b','c','d','e'])\n",
    "print(arr15.dtype)"
   ]
  },
  {
   "cell_type": "code",
   "execution_count": null,
   "id": "dd2ea855-5336-4fd4-b851-a4f19f9c823d",
   "metadata": {},
   "outputs": [],
   "source": [
    "#CREATE AN ARRAY WITH SPECIFIC OF DATATYPE"
   ]
  },
  {
   "cell_type": "raw",
   "id": "bf0734b3-ddf0-45bf-ab8b-f2d8dc86d8b0",
   "metadata": {},
   "source": [
    "\n"
   ]
  },
  {
   "cell_type": "code",
   "execution_count": 5,
   "id": "38ade1bb-c498-451d-aebf-f75944ec84e4",
   "metadata": {},
   "outputs": [
    {
     "name": "stdout",
     "output_type": "stream",
     "text": [
      "[1. 2. 3. 4. 5.]\n",
      "float16\n"
     ]
    }
   ],
   "source": [
    "import numpy as np\n",
    "arr16=np.array([1,2,3,4,5],dtype=np.float16)\n",
    "print(arr16)\n",
    "print(arr16.dtype)"
   ]
  },
  {
   "cell_type": "code",
   "execution_count": 8,
   "id": "cc1da6e5-480c-4544-846a-591ea0ac7c16",
   "metadata": {},
   "outputs": [
    {
     "name": "stdout",
     "output_type": "stream",
     "text": [
      "[1 2 3 4 5]\n",
      "int32\n"
     ]
    }
   ],
   "source": [
    "import numpy as np\n",
    "arr17=np.array([1.1,2.2,3.3,4.4,5.5],dtype=np.int32)\n",
    "print(arr17)\n",
    "print(arr17.dtype)"
   ]
  },
  {
   "cell_type": "code",
   "execution_count": null,
   "id": "26a33640-e783-4a80-8b94-18f669b0fd62",
   "metadata": {},
   "outputs": [],
   "source": [
    "#HOW TO CONVERT AN ARRAY TO ANOTHER DATATYPE"
   ]
  },
  {
   "cell_type": "code",
   "execution_count": 15,
   "id": "886c3911-f78e-41a7-ba42-e5986fe3679e",
   "metadata": {},
   "outputs": [
    {
     "name": "stdout",
     "output_type": "stream",
     "text": [
      "[1. 2. 3. 4. 5.]\n",
      "float16\n"
     ]
    }
   ],
   "source": [
    "import numpy as np\n",
    "arr18=np.array([1,2,3,4,5],dtype=np.int8)\n",
    "arr19=arr18.astype(np.float16)\n",
    "print(arr19)\n",
    "print(arr19.dtype)"
   ]
  },
  {
   "cell_type": "code",
   "execution_count": null,
   "id": "e7612970-471f-4523-98c3-b146ec633c30",
   "metadata": {},
   "outputs": [],
   "source": [
    "#ARRAY CREATION METHOD"
   ]
  },
  {
   "cell_type": "code",
   "execution_count": null,
   "id": "357db4e0-de7c-49fb-a801-a88236a82583",
   "metadata": {},
   "outputs": [],
   "source": [
    "#numpy.array()"
   ]
  },
  {
   "cell_type": "code",
   "execution_count": 17,
   "id": "2c33166c-561b-43ca-af92-79885824eb2a",
   "metadata": {},
   "outputs": [
    {
     "name": "stdout",
     "output_type": "stream",
     "text": [
      "[1 2 3 4]\n"
     ]
    }
   ],
   "source": [
    "arr20=np.array([1,2,3,4])\n",
    "print(arr20)"
   ]
  },
  {
   "cell_type": "code",
   "execution_count": null,
   "id": "d385201b-1180-4131-b0dd-2ec3ec957af7",
   "metadata": {},
   "outputs": [],
   "source": [
    "#NUMPY.ZEROS()"
   ]
  },
  {
   "cell_type": "code",
   "execution_count": 19,
   "id": "2573229c-dc22-4a7a-ac41-f0a85603ca6a",
   "metadata": {},
   "outputs": [
    {
     "name": "stdout",
     "output_type": "stream",
     "text": [
      "[0. 0. 0. 0. 0. 0.]\n"
     ]
    }
   ],
   "source": [
    "arr21=np.zeros(6)\n",
    "print(arr21)"
   ]
  },
  {
   "cell_type": "code",
   "execution_count": 21,
   "id": "f3617dea-9d42-4fba-ad1c-16c0d1e546a0",
   "metadata": {},
   "outputs": [
    {
     "name": "stdout",
     "output_type": "stream",
     "text": [
      "[[0. 0. 0. 0.]\n",
      " [0. 0. 0. 0.]\n",
      " [0. 0. 0. 0.]\n",
      " [0. 0. 0. 0.]]\n"
     ]
    }
   ],
   "source": [
    "arr22=np.zeros((4,4))\n",
    "print(arr22)"
   ]
  },
  {
   "cell_type": "code",
   "execution_count": 23,
   "id": "f4cf9a37-e651-4a25-b0f3-3fb313850697",
   "metadata": {},
   "outputs": [
    {
     "name": "stdout",
     "output_type": "stream",
     "text": [
      "[[[0. 0. 0. 0.]\n",
      "  [0. 0. 0. 0.]\n",
      "  [0. 0. 0. 0.]\n",
      "  [0. 0. 0. 0.]]\n",
      "\n",
      " [[0. 0. 0. 0.]\n",
      "  [0. 0. 0. 0.]\n",
      "  [0. 0. 0. 0.]\n",
      "  [0. 0. 0. 0.]]]\n"
     ]
    }
   ],
   "source": [
    "arr23=np.zeros(((2,4,4)))\n",
    "print(arr23)"
   ]
  },
  {
   "cell_type": "code",
   "execution_count": null,
   "id": "dcbde8e5-45d2-4353-a2fe-54e5c87bd5cc",
   "metadata": {},
   "outputs": [],
   "source": [
    "#numpy.ones()"
   ]
  },
  {
   "cell_type": "code",
   "execution_count": 26,
   "id": "ebe917d4-4fa8-4e82-8c2b-0cebbe2cd7a4",
   "metadata": {},
   "outputs": [
    {
     "name": "stdout",
     "output_type": "stream",
     "text": [
      "[[[1. 1. 1. 1.]\n",
      "  [1. 1. 1. 1.]\n",
      "  [1. 1. 1. 1.]\n",
      "  [1. 1. 1. 1.]]\n",
      "\n",
      " [[1. 1. 1. 1.]\n",
      "  [1. 1. 1. 1.]\n",
      "  [1. 1. 1. 1.]\n",
      "  [1. 1. 1. 1.]]]\n"
     ]
    }
   ],
   "source": [
    "arr24=np.ones((2,4,4))\n",
    "print(arr24)"
   ]
  },
  {
   "cell_type": "code",
   "execution_count": null,
   "id": "44e8228d-693e-452b-8420-01715c959b11",
   "metadata": {},
   "outputs": [],
   "source": [
    "#numpy.arange()"
   ]
  },
  {
   "cell_type": "code",
   "execution_count": 31,
   "id": "b0530ed4-3a3e-4a0d-b4f4-22573292303e",
   "metadata": {},
   "outputs": [
    {
     "name": "stdout",
     "output_type": "stream",
     "text": [
      "[0 1 2 3 4 5 6 7 8 9]\n"
     ]
    }
   ],
   "source": [
    "arr25=np.arange(10)\n",
    "print(arr25)"
   ]
  },
  {
   "cell_type": "code",
   "execution_count": 33,
   "id": "c802be49-5172-490f-b4a1-84145ae0eaaa",
   "metadata": {},
   "outputs": [
    {
     "name": "stdout",
     "output_type": "stream",
     "text": [
      "[ 1  2  3  4  5  6  7  8  9 10]\n"
     ]
    }
   ],
   "source": [
    "arr26=np.arange(1,11)\n",
    "print(arr26)"
   ]
  },
  {
   "cell_type": "code",
   "execution_count": 34,
   "id": "eb005282-12d3-4408-bd11-55288d466bed",
   "metadata": {},
   "outputs": [
    {
     "name": "stdout",
     "output_type": "stream",
     "text": [
      "[10 11 12 13 14 15 16 17 18 19 20 21 22 23 24 25 26]\n"
     ]
    }
   ],
   "source": [
    "arr27=np.arange(10,27)\n",
    "print(arr27)"
   ]
  },
  {
   "cell_type": "code",
   "execution_count": 35,
   "id": "314f6e2f-9d7f-47e3-aeb1-dceb89810ae6",
   "metadata": {},
   "outputs": [
    {
     "name": "stdout",
     "output_type": "stream",
     "text": [
      "[10 12 14 16 18 20 22 24 26 28]\n"
     ]
    }
   ],
   "source": [
    "arr28=np.arange(10,29,2)\n",
    "print(arr28)"
   ]
  },
  {
   "cell_type": "code",
   "execution_count": null,
   "id": "7f80d1e3-e8d1-4443-8061-f843739a8c27",
   "metadata": {},
   "outputs": [],
   "source": [
    "#numpy.linspace()"
   ]
  },
  {
   "cell_type": "code",
   "execution_count": 36,
   "id": "13725696-ef49-44da-9bd6-02df0b4a9d6e",
   "metadata": {},
   "outputs": [
    {
     "name": "stdout",
     "output_type": "stream",
     "text": [
      "[ 1.    3.25  5.5   7.75 10.  ]\n"
     ]
    }
   ],
   "source": [
    "arr29=np.linspace(1,10,5)\n",
    "print(arr29)"
   ]
  },
  {
   "cell_type": "code",
   "execution_count": null,
   "id": "c2b7ab23-2f84-454c-b7cc-da4af9277f70",
   "metadata": {},
   "outputs": [],
   "source": [
    "#numpy.eye()"
   ]
  },
  {
   "cell_type": "code",
   "execution_count": 37,
   "id": "c8381bcd-2ca5-4684-ad30-40c45f1d1eb9",
   "metadata": {},
   "outputs": [
    {
     "name": "stdout",
     "output_type": "stream",
     "text": [
      "[[1. 0. 0. 0.]\n",
      " [0. 1. 0. 0.]\n",
      " [0. 0. 1. 0.]\n",
      " [0. 0. 0. 1.]]\n"
     ]
    }
   ],
   "source": [
    "arr30=np.eye(4)\n",
    "print(arr30)"
   ]
  },
  {
   "cell_type": "code",
   "execution_count": 38,
   "id": "21678306-827c-47e7-bb9a-ba48cdc3aa0e",
   "metadata": {},
   "outputs": [
    {
     "name": "stdout",
     "output_type": "stream",
     "text": [
      "[[1. 0. 0. 0.]\n",
      " [0. 1. 0. 0.]\n",
      " [0. 0. 1. 0.]\n",
      " [0. 0. 0. 1.]\n",
      " [0. 0. 0. 0.]\n",
      " [0. 0. 0. 0.]]\n"
     ]
    }
   ],
   "source": [
    "arr31=np.eye(6,4)\n",
    "print(arr31)"
   ]
  },
  {
   "cell_type": "code",
   "execution_count": 39,
   "id": "f69eb53f-728f-4e1f-8ae7-4ba94f974ad1",
   "metadata": {},
   "outputs": [
    {
     "name": "stdout",
     "output_type": "stream",
     "text": [
      "[[0. 1. 0. 0.]\n",
      " [0. 0. 1. 0.]\n",
      " [0. 0. 0. 1.]\n",
      " [0. 0. 0. 0.]\n",
      " [0. 0. 0. 0.]\n",
      " [0. 0. 0. 0.]]\n"
     ]
    }
   ],
   "source": [
    "arr32=np.eye(6,4,1)\n",
    "print(arr32)"
   ]
  },
  {
   "cell_type": "code",
   "execution_count": 40,
   "id": "f64a8240-3361-41b5-b76b-1faa6c77b64b",
   "metadata": {},
   "outputs": [
    {
     "name": "stdout",
     "output_type": "stream",
     "text": [
      "[[0. 0. 1. 0.]\n",
      " [0. 0. 0. 1.]\n",
      " [0. 0. 0. 0.]\n",
      " [0. 0. 0. 0.]\n",
      " [0. 0. 0. 0.]\n",
      " [0. 0. 0. 0.]]\n"
     ]
    }
   ],
   "source": [
    "arr33=np.eye(6,4,2)\n",
    "print(arr33)"
   ]
  },
  {
   "cell_type": "code",
   "execution_count": 41,
   "id": "f954c16c-4427-4a57-821b-5f4037ec12a1",
   "metadata": {},
   "outputs": [
    {
     "name": "stdout",
     "output_type": "stream",
     "text": [
      "[[0. 0. 0. 0.]\n",
      " [1. 0. 0. 0.]\n",
      " [0. 1. 0. 0.]\n",
      " [0. 0. 1. 0.]\n",
      " [0. 0. 0. 1.]\n",
      " [0. 0. 0. 0.]]\n"
     ]
    }
   ],
   "source": [
    "arr34=np.eye(6,4,-1)\n",
    "print(arr34)"
   ]
  },
  {
   "cell_type": "code",
   "execution_count": null,
   "id": "f74f717b-42f6-42c3-a7d5-c33de11e6b61",
   "metadata": {},
   "outputs": [],
   "source": [
    "#numpy.full()"
   ]
  },
  {
   "cell_type": "code",
   "execution_count": 43,
   "id": "ba09099d-eca9-4c71-88a4-dc3e981468ed",
   "metadata": {},
   "outputs": [
    {
     "name": "stdout",
     "output_type": "stream",
     "text": [
      "[12 12 12 12 12]\n"
     ]
    }
   ],
   "source": [
    "arr35=np.full(5,12)\n",
    "print(arr35)"
   ]
  },
  {
   "cell_type": "code",
   "execution_count": 45,
   "id": "2883f0ed-1285-454f-863c-99a1f2d7ebd7",
   "metadata": {},
   "outputs": [
    {
     "name": "stdout",
     "output_type": "stream",
     "text": [
      "[[13 13 13 13 13]\n",
      " [13 13 13 13 13]\n",
      " [13 13 13 13 13]]\n"
     ]
    }
   ],
   "source": [
    "arr36=np.full((3,5),13)\n",
    "print(arr36)"
   ]
  },
  {
   "cell_type": "code",
   "execution_count": null,
   "id": "31c93e00-78e8-4ba6-843d-8f1496b4757b",
   "metadata": {},
   "outputs": [],
   "source": [
    "#numpy.random.randint()\n"
   ]
  },
  {
   "cell_type": "code",
   "execution_count": 51,
   "id": "4cb4d462-3639-4ba7-b375-ac60d67ecab8",
   "metadata": {},
   "outputs": [
    {
     "name": "stdout",
     "output_type": "stream",
     "text": [
      "[[ 1 10]\n",
      " [ 8  9]]\n"
     ]
    }
   ],
   "source": [
    "arr37=np.random.randint(0,11,(2,2))\n",
    "print(arr37)"
   ]
  },
  {
   "cell_type": "code",
   "execution_count": 53,
   "id": "6504e155-7dda-4183-8cee-545f787d0ef8",
   "metadata": {},
   "outputs": [
    {
     "name": "stdout",
     "output_type": "stream",
     "text": [
      "[[[63  9]\n",
      "  [90 37]]\n",
      "\n",
      " [[79  7]\n",
      "  [ 6 39]]]\n"
     ]
    }
   ],
   "source": [
    "arr38=np.random.randint(0,100,((2,2,2)))\n",
    "print(arr38)"
   ]
  },
  {
   "cell_type": "code",
   "execution_count": null,
   "id": "41ac6f4e-2568-4672-8483-119bfbedb4eb",
   "metadata": {},
   "outputs": [],
   "source": [
    "#numpy.random.random()"
   ]
  },
  {
   "cell_type": "code",
   "execution_count": 55,
   "id": "f839b15b-e9b7-4e78-a6f6-896023965201",
   "metadata": {},
   "outputs": [
    {
     "name": "stdout",
     "output_type": "stream",
     "text": [
      "[0.18559159 0.73719787 0.49942327 0.3587865 ]\n"
     ]
    }
   ],
   "source": [
    "arr39=np.random.random(4)\n",
    "print(arr39)"
   ]
  },
  {
   "cell_type": "code",
   "execution_count": 57,
   "id": "d25d1e96-f9a3-48e3-b95c-3f4e25f65e5d",
   "metadata": {},
   "outputs": [
    {
     "name": "stdout",
     "output_type": "stream",
     "text": [
      "[[0.9634226  0.94778752]\n",
      " [0.66682234 0.62878752]]\n"
     ]
    }
   ],
   "source": [
    "arr40=np.random.random((2,2))\n",
    "print(arr40)"
   ]
  },
  {
   "cell_type": "code",
   "execution_count": null,
   "id": "331b7bad-a654-4ed7-ae95-c6cafc527167",
   "metadata": {},
   "outputs": [],
   "source": [
    "#TO FIND THE SUM"
   ]
  },
  {
   "cell_type": "code",
   "execution_count": 2,
   "id": "056b7c89-b016-45b6-9c5c-72f69a7031f6",
   "metadata": {},
   "outputs": [
    {
     "name": "stdout",
     "output_type": "stream",
     "text": [
      "[ 8  7  9 10  8]\n",
      "42\n"
     ]
    }
   ],
   "source": [
    "import numpy as np\n",
    "arr41=np.random.randint(4,15,5)\n",
    "sum=np.sum(arr41)\n",
    "print(arr41)\n",
    "print(sum)"
   ]
  },
  {
   "cell_type": "markdown",
   "id": "7fb3d169-8a2c-43f1-8f66-13ad2fc74609",
   "metadata": {},
   "source": [
    "import numpy as np\n",
    "arr42=np.random.random(5)\n",
    "sum=np.sum(arr42)\n",
    "print(arr42)\n",
    "print(sum)"
   ]
  },
  {
   "cell_type": "code",
   "execution_count": null,
   "id": "08de8f00-8348-453b-a9d6-e12dca2d9fd8",
   "metadata": {},
   "outputs": [],
   "source": [
    "#MEAN,MEDIAN,Standard deviation"
   ]
  },
  {
   "cell_type": "code",
   "execution_count": 7,
   "id": "579c8b4b-e853-4e57-82c1-e7f3c80c6078",
   "metadata": {},
   "outputs": [
    {
     "name": "stdout",
     "output_type": "stream",
     "text": [
      "ARRAY= [74 73 53 47 75 81 36 54 38  2]\n",
      "SUM= 533\n",
      "MEAN= 53.3\n",
      "MEADIAN= 53.5\n",
      "DEVIATION 22.934907891683366\n"
     ]
    }
   ],
   "source": [
    "arr43=np.random.randint(1,100,10)\n",
    "sum1=np.sum(arr43)\n",
    "mean=np.mean(arr43)\n",
    "median=np.median(arr43)\n",
    "deviation=np.std(arr43)\n",
    "print(\"ARRAY=\",arr43)\n",
    "print(\"SUM=\",sum1)\n",
    "print(\"MEAN=\",mean)\n",
    "print(\"MEADIAN=\",median)\n",
    "print(\"DEVIATION\",deviation)"
   ]
  },
  {
   "cell_type": "code",
   "execution_count": null,
   "id": "8a7dd8bf-fee3-46d6-922a-2bec4f8bb71a",
   "metadata": {},
   "outputs": [],
   "source": [
    "#ARRAY INDEXING"
   ]
  },
  {
   "cell_type": "code",
   "execution_count": null,
   "id": "3204d274-adc9-402c-987f-fe7c3fd6fd33",
   "metadata": {},
   "outputs": [],
   "source": [
    "#ARRAY ACCESSING"
   ]
  },
  {
   "cell_type": "code",
   "execution_count": 15,
   "id": "d949fea2-e0c9-4cae-9b48-5156a84b10dc",
   "metadata": {},
   "outputs": [
    {
     "data": {
      "text/plain": [
       "90"
      ]
     },
     "execution_count": 15,
     "metadata": {},
     "output_type": "execute_result"
    }
   ],
   "source": [
    "arr44=np.arange(10,100,10)\n",
    "arr44[-1]\n"
   ]
  },
  {
   "cell_type": "code",
   "execution_count": 16,
   "id": "8f97dd03-94a7-410a-8d0b-e82af02733c7",
   "metadata": {},
   "outputs": [
    {
     "data": {
      "text/plain": [
       "10"
      ]
     },
     "execution_count": 16,
     "metadata": {},
     "output_type": "execute_result"
    }
   ],
   "source": [
    "arr44=np.arange(10,100,10)\n",
    "arr44[0]"
   ]
  },
  {
   "cell_type": "code",
   "execution_count": 17,
   "id": "1e83e9c2-965a-4598-b438-232c90a322ac",
   "metadata": {},
   "outputs": [
    {
     "data": {
      "text/plain": [
       "50"
      ]
     },
     "execution_count": 17,
     "metadata": {},
     "output_type": "execute_result"
    }
   ],
   "source": [
    "arr44=np.arange(10,100,10)\n",
    "arr44[4]"
   ]
  },
  {
   "cell_type": "code",
   "execution_count": 24,
   "id": "ae5118f1-7d67-4849-b285-3f5c264abee4",
   "metadata": {},
   "outputs": [
    {
     "data": {
      "text/plain": [
       "8"
      ]
     },
     "execution_count": 24,
     "metadata": {},
     "output_type": "execute_result"
    }
   ],
   "source": [
    "arr45=np.array([[2,4,3],[3,5,8],[5,6,2]])\n",
    "arr45[1,2]"
   ]
  },
  {
   "cell_type": "code",
   "execution_count": 27,
   "id": "72643dcc-dfe1-4077-b357-a217f7d27fe0",
   "metadata": {},
   "outputs": [
    {
     "data": {
      "text/plain": [
       "18"
      ]
     },
     "execution_count": 27,
     "metadata": {},
     "output_type": "execute_result"
    }
   ],
   "source": [
    "arr46=np.array([[[0,1],[12,14]],[[12,14],[16,18]]])\n",
    "arr46[1,1,1]"
   ]
  },
  {
   "cell_type": "code",
   "execution_count": null,
   "id": "e550c88f-9aa4-4e48-945c-e4922a9295c5",
   "metadata": {},
   "outputs": [],
   "source": [
    "#ARRAY SLICING"
   ]
  },
  {
   "cell_type": "code",
   "execution_count": null,
   "id": "fc65a2fa-4968-47b7-b7b3-404a18d0cfbd",
   "metadata": {},
   "outputs": [],
   "source": [
    "#1D ARRAY SLICING"
   ]
  },
  {
   "cell_type": "code",
   "execution_count": 28,
   "id": "b351dbb7-9eac-437c-ace2-376edf6584f8",
   "metadata": {},
   "outputs": [
    {
     "data": {
      "text/plain": [
       "array([20, 30, 40, 50, 60])"
      ]
     },
     "execution_count": 28,
     "metadata": {},
     "output_type": "execute_result"
    }
   ],
   "source": [
    "arr47=np.arange(10,100,10)\n",
    "arr47[1:6]"
   ]
  },
  {
   "cell_type": "code",
   "execution_count": 29,
   "id": "87429e0b-6ffa-4bab-ae2c-27a455492e1b",
   "metadata": {},
   "outputs": [
    {
     "data": {
      "text/plain": [
       "array([20, 30, 40, 50, 60, 70, 80, 90])"
      ]
     },
     "execution_count": 29,
     "metadata": {},
     "output_type": "execute_result"
    }
   ],
   "source": [
    "arr47=np.arange(10,100,10)\n",
    "arr47[1:]"
   ]
  },
  {
   "cell_type": "code",
   "execution_count": 30,
   "id": "9b189080-948d-42fe-a59d-d8cf2292a933",
   "metadata": {},
   "outputs": [
    {
     "data": {
      "text/plain": [
       "array([10, 20, 30, 40, 50, 60])"
      ]
     },
     "execution_count": 30,
     "metadata": {},
     "output_type": "execute_result"
    }
   ],
   "source": [
    "arr47=np.arange(10,100,10)\n",
    "arr47[:6]"
   ]
  },
  {
   "cell_type": "code",
   "execution_count": null,
   "id": "e2a1b20a-dfdb-4f5b-a867-a226514fd641",
   "metadata": {},
   "outputs": [],
   "source": [
    "#NEGATIVE SLICING"
   ]
  },
  {
   "cell_type": "code",
   "execution_count": 33,
   "id": "77920b95-f665-4b92-bea8-8a07e049a309",
   "metadata": {},
   "outputs": [
    {
     "data": {
      "text/plain": [
       "array([20, 30, 40, 50, 60, 70])"
      ]
     },
     "execution_count": 33,
     "metadata": {},
     "output_type": "execute_result"
    }
   ],
   "source": [
    "arr48=np.arange(10,110,10)\n",
    "arr48[-9:-3]"
   ]
  },
  {
   "cell_type": "code",
   "execution_count": null,
   "id": "9fd04e36-ab07-49f1-8c04-6b8f9c5ea038",
   "metadata": {},
   "outputs": [],
   "source": [
    "#ARRAY SLICING WITH INTERVAL"
   ]
  },
  {
   "cell_type": "code",
   "execution_count": 35,
   "id": "e52ad4d6-af19-42a7-a652-e32f35e62d25",
   "metadata": {},
   "outputs": [
    {
     "data": {
      "text/plain": [
       "array([10, 30, 50, 70, 90])"
      ]
     },
     "execution_count": 35,
     "metadata": {},
     "output_type": "execute_result"
    }
   ],
   "source": [
    "arr48[::2]"
   ]
  },
  {
   "cell_type": "code",
   "execution_count": 36,
   "id": "291c8604-d6c5-4165-9ddd-fbead3e4d742",
   "metadata": {},
   "outputs": [
    {
     "data": {
      "text/plain": [
       "array([30, 50, 70])"
      ]
     },
     "execution_count": 36,
     "metadata": {},
     "output_type": "execute_result"
    }
   ],
   "source": [
    "arr48[2:7:2]"
   ]
  },
  {
   "cell_type": "code",
   "execution_count": null,
   "id": "a36a5db4-bd88-489a-ba63-5c0417d4baf7",
   "metadata": {},
   "outputs": [],
   "source": [
    "#2D ARRAY SLICING "
   ]
  },
  {
   "cell_type": "code",
   "execution_count": 37,
   "id": "23d2a372-840a-4248-ab73-927fb333c84f",
   "metadata": {},
   "outputs": [
    {
     "data": {
      "text/plain": [
       "array([12, 15])"
      ]
     },
     "execution_count": 37,
     "metadata": {},
     "output_type": "execute_result"
    }
   ],
   "source": [
    "arr49=np.array([[3,6,9],[12,15,18],[21,24,27]])\n",
    "arr49[1,0:2]"
   ]
  },
  {
   "cell_type": "code",
   "execution_count": 38,
   "id": "b028ae01-cfdf-45f9-981f-9b7d79e5b3ae",
   "metadata": {},
   "outputs": [
    {
     "data": {
      "text/plain": [
       "array([[12, 15],\n",
       "       [21, 24]])"
      ]
     },
     "execution_count": 38,
     "metadata": {},
     "output_type": "execute_result"
    }
   ],
   "source": [
    "arr49[1:3,0:2]"
   ]
  },
  {
   "cell_type": "code",
   "execution_count": null,
   "id": "adc02371-b233-41f2-a206-65fcf02d9f09",
   "metadata": {},
   "outputs": [],
   "source": [
    "#3D ARRAY SLICING   "
   ]
  },
  {
   "cell_type": "code",
   "execution_count": 41,
   "id": "a9625a75-7981-4a96-8bd2-bfc4ef9abd8c",
   "metadata": {},
   "outputs": [
    {
     "data": {
      "text/plain": [
       "array([16, 18])"
      ]
     },
     "execution_count": 41,
     "metadata": {},
     "output_type": "execute_result"
    }
   ],
   "source": [
    "arr46\n",
    "arr46[1,1,0:2]"
   ]
  },
  {
   "cell_type": "code",
   "execution_count": 43,
   "id": "f9a5b18a-7619-4a71-9fd1-fb38d6f322ca",
   "metadata": {},
   "outputs": [
    {
     "data": {
      "text/plain": [
       "array([[12, 14],\n",
       "       [16, 18]])"
      ]
     },
     "execution_count": 43,
     "metadata": {},
     "output_type": "execute_result"
    }
   ],
   "source": [
    "arr46\n",
    "arr46[1,0:2,0:2]"
   ]
  },
  {
   "cell_type": "code",
   "execution_count": null,
   "id": "2268740f-49b2-4dcd-9aa0-9369c4919e93",
   "metadata": {},
   "outputs": [],
   "source": [
    "#NUMPY ARRAY TASKS "
   ]
  },
  {
   "cell_type": "code",
   "execution_count": null,
   "id": "e5ce01c9-c170-41d9-bb7d-c84aa710d52e",
   "metadata": {},
   "outputs": [],
   "source": [
    "#1. Creating Arrays "
   ]
  },
  {
   "cell_type": "code",
   "execution_count": null,
   "id": "9ff81fb8-62eb-4798-8bae-84d740045ca3",
   "metadata": {},
   "outputs": [],
   "source": [
    "#Task 1: Create a NumPy array with integers from 1 to 10. "
   ]
  },
  {
   "cell_type": "code",
   "execution_count": 2,
   "id": "bb5be011-d825-4067-b1c8-cc356ac806b5",
   "metadata": {},
   "outputs": [
    {
     "name": "stdout",
     "output_type": "stream",
     "text": [
      "[ 1  2  3  4  5  6  7  8  9 10]\n"
     ]
    }
   ],
   "source": [
    "import numpy as np\n",
    "arr47=np.arange(1,11,1)\n",
    "print(arr47)"
   ]
  },
  {
   "cell_type": "code",
   "execution_count": null,
   "id": "97194072-3fed-47d0-9637-d4dccae5909c",
   "metadata": {},
   "outputs": [],
   "source": [
    "#Task 2: Create a 2D array of size 3x3 with all elements equal to 7"
   ]
  },
  {
   "cell_type": "code",
   "execution_count": 4,
   "id": "2332a8af-f833-4fe3-92c5-3abf7d58efe6",
   "metadata": {},
   "outputs": [
    {
     "name": "stdout",
     "output_type": "stream",
     "text": [
      "[[7 7 7]\n",
      " [7 7 7]\n",
      " [7 7 7]]\n"
     ]
    }
   ],
   "source": [
    "arr48=np.full((3,3),7)\n",
    "print(arr48)"
   ]
  },
  {
   "cell_type": "code",
   "execution_count": null,
   "id": "4b733a06-4447-4a23-9ad0-3d177c63dccd",
   "metadata": {},
   "outputs": [],
   "source": [
    "#Task 3: Create an array of shape (5, 5) with random float values between 0 and 1. "
   ]
  },
  {
   "cell_type": "code",
   "execution_count": 6,
   "id": "e36371d1-22c3-486b-8361-5b0ac1781906",
   "metadata": {},
   "outputs": [
    {
     "name": "stdout",
     "output_type": "stream",
     "text": [
      "[[0.27275207 0.28035912 0.88560007 0.32305841 0.84175354]\n",
      " [0.66633444 0.11259448 0.10480612 0.45774671 0.68484628]\n",
      " [0.33734039 0.29195078 0.20122011 0.26664312 0.64030572]\n",
      " [0.76906845 0.07715206 0.61065641 0.76253308 0.83318118]\n",
      " [0.80818381 0.23664418 0.94840745 0.60631424 0.5623268 ]]\n"
     ]
    }
   ],
   "source": [
    "arr49=np.random.random((5,5))\n",
    "print(arr49)"
   ]
  },
  {
   "cell_type": "code",
   "execution_count": null,
   "id": "09ca6453-e13f-4d27-a9fe-d7d01239f738",
   "metadata": {},
   "outputs": [],
   "source": [
    "# Task 4: Create a 1D array containing the first 10 square numbers (i.e., [1, 4, 9, 16, 25, ..., 100])."
   ]
  },
  {
   "cell_type": "code",
   "execution_count": 9,
   "id": "600e199e-bfe5-4e48-bc26-8c039f561e14",
   "metadata": {},
   "outputs": [
    {
     "name": "stdout",
     "output_type": "stream",
     "text": [
      "[1, 4, 9, 16, 25, 36, 49, 64, 81, 100]\n"
     ]
    }
   ],
   "source": [
    "arr50=np.arange(1,11,1)\n",
    "square=list(map(lambda x:x**2,arr50))\n",
    "print(square)            "
   ]
  },
  {
   "cell_type": "code",
   "execution_count": null,
   "id": "f845b5e6-773a-4ef9-82ed-5a3f063c5a7e",
   "metadata": {},
   "outputs": [],
   "source": [
    "#2. Array Operations "
   ]
  },
  {
   "cell_type": "code",
   "execution_count": null,
   "id": "4ec1ba8e-5c32-455e-9c5d-cb0393485bea",
   "metadata": {},
   "outputs": [],
   "source": [
    "# Task 5: Create two arrays of the same size and perform element-wise addition, subtraction, \n",
    "multiplication, and division."
   ]
  },
  {
   "cell_type": "code",
   "execution_count": 14,
   "id": "d01e8603-3ab8-4a37-9746-9af5c747e415",
   "metadata": {},
   "outputs": [
    {
     "name": "stdout",
     "output_type": "stream",
     "text": [
      "add= [ 3 10 13  9 10  7]\n",
      "sub= [-1 -6 -5  1 -4  5]\n",
      "mul= [ 2 16 36 20 21  6]\n",
      "div= [1 2 4 1 3 0]\n"
     ]
    }
   ],
   "source": [
    "arr51=np.array([1,2,4,5,3,6])\n",
    "arr52=np.array([2,8,9,4,7,1])\n",
    "add=arr51+arr52\n",
    "sub=arr51-arr52\n",
    "mul=arr51*arr52\n",
    "div=arr51%arr52\n",
    "print('add=',add)\n",
    "print('sub=',sub)\n",
    "print('mul=',mul)\n",
    "print('div=',div)\n"
   ]
  },
  {
   "cell_type": "code",
   "execution_count": null,
   "id": "8ca4f381-1e34-4c11-845b-31d72ba1796c",
   "metadata": {},
   "outputs": [],
   "source": [
    "#Task 6: Find the dot product of two 2D arrays. "
   ]
  },
  {
   "cell_type": "code",
   "execution_count": 21,
   "id": "151fd736-ca4d-4934-af2b-450cb22f91fc",
   "metadata": {},
   "outputs": [
    {
     "name": "stdout",
     "output_type": "stream",
     "text": [
      "[[ 51  41  79]\n",
      " [ 93  78 147]\n",
      " [108 103 182]]\n"
     ]
    }
   ],
   "source": [
    "arr53=np.array([[3,5],[6,9],[9,10]])\n",
    "arr54=np.array([[2,9],[7,4],[8,11]])\n",
    "dot1=np.dot(arr53,arr54.T)\n",
    "print(dot1)"
   ]
  },
  {
   "cell_type": "code",
   "execution_count": null,
   "id": "78f51cde-6ef8-4cef-a2c6-be1b10f1e3b2",
   "metadata": {},
   "outputs": [],
   "source": [
    "#Task 7: Find the sum, mean, median, and standard deviation of a given array. "
   ]
  },
  {
   "cell_type": "code",
   "execution_count": 23,
   "id": "56708b1a-b467-4b3e-9917-c098bd44971b",
   "metadata": {},
   "outputs": [
    {
     "name": "stdout",
     "output_type": "stream",
     "text": [
      "sum= 54\n",
      "mean= 6.0\n",
      "std= 2.581988897471611\n",
      "median= 6.0\n"
     ]
    }
   ],
   "source": [
    "arr55=np.array([3,5,7,9,8,6,4,10,2])\n",
    "sum1=np.sum(arr55)\n",
    "mean=np.mean(arr55)\n",
    "std=np.std(arr55)\n",
    "median=np.median(arr55)\n",
    "print('sum=',sum1)\n",
    "print('mean=',mean)\n",
    "print('std=',std)\n",
    "print('median=',median)"
   ]
  },
  {
   "cell_type": "code",
   "execution_count": null,
   "id": "bfcd4d4b-0fb0-4e4b-b1d5-db6f6912b0c0",
   "metadata": {},
   "outputs": [],
   "source": [
    "# Array Indexing and Slicing "
   ]
  },
  {
   "cell_type": "code",
   "execution_count": null,
   "id": "1a901e58-7231-4148-ae8d-05ce56b0f547",
   "metadata": {},
   "outputs": [],
   "source": [
    "Task 8: Create a 2D array of shape (5, 5) with values from 1 to 25 and extract the subarray from \n",
    "the 2nd to 4th row and 2nd to 4th column. "
   ]
  },
  {
   "cell_type": "code",
   "execution_count": 3,
   "id": "8bf76dc5-96d2-4be7-b4d7-83773d345858",
   "metadata": {},
   "outputs": [
    {
     "name": "stdout",
     "output_type": "stream",
     "text": [
      "[[ 1  2  3  4  5]\n",
      " [ 6  7  8  9 10]\n",
      " [11 12 13 14 15]\n",
      " [16 17 18 19 20]\n",
      " [21 22 23 24 25]]\n",
      "[[ 7  8  9]\n",
      " [12 13 14]\n",
      " [17 18 19]]\n"
     ]
    }
   ],
   "source": [
    "import numpy as np\n",
    "arr56=np.arange(1,26,1)\n",
    "arr57=arr56.reshape(5,5)\n",
    "print(arr57)\n",
    "arr58=arr57[1:4,1:4]\n",
    "print(arr58)"
   ]
  },
  {
   "cell_type": "code",
   "execution_count": null,
   "id": "1b0f6706-7978-48ce-b121-d754f4d57bbc",
   "metadata": {},
   "outputs": [],
   "source": [
    "#Task 9: Use boolean indexing to replace all negative values in a NumPy array with zero. "
   ]
  },
  {
   "cell_type": "code",
   "execution_count": 5,
   "id": "90694a31-9b77-470d-b8bd-d690a8f06658",
   "metadata": {},
   "outputs": [
    {
     "name": "stdout",
     "output_type": "stream",
     "text": [
      "[ 2  3  5  0  0  2  0 10]\n"
     ]
    }
   ],
   "source": [
    "arr59=np.array([2,3,5,-9,-1,2,-7,10])\n",
    "arr59[arr59<0]=0\n",
    "print(arr59)"
   ]
  },
  {
   "cell_type": "code",
   "execution_count": null,
   "id": "73c86334-99ce-4015-92f4-a6c1a49e4306",
   "metadata": {},
   "outputs": [],
   "source": [
    "#Task 10: Create an array and slice every alternate element (odd indices) from the original array. "
   ]
  },
  {
   "cell_type": "code",
   "execution_count": 9,
   "id": "48a77ebc-6b1d-4cfe-a6d7-9319eb8d8f8b",
   "metadata": {},
   "outputs": [
    {
     "name": "stdout",
     "output_type": "stream",
     "text": [
      "[ 5 10 15 20 25 30 35 40 45 50 55]\n",
      "[10 20 30 40 50]\n"
     ]
    }
   ],
   "source": [
    "arr60=np.arange(5,56,5)\n",
    "print(arr60)\n",
    "arr61=arr60[1::2]\n",
    "print(arr61)"
   ]
  },
  {
   "cell_type": "code",
   "execution_count": null,
   "id": "45f7f064-d969-4142-8dba-fe8e64608b1d",
   "metadata": {},
   "outputs": [],
   "source": [
    "#4. Array Reshaping and Transposing"
   ]
  },
  {
   "cell_type": "code",
   "execution_count": null,
   "id": "8853c580-f3ba-4015-a57a-b3fe655393b2",
   "metadata": {},
   "outputs": [],
   "source": [
    "#Task 11: Convert a 1D array of 12 elements into a 3x4 2D array."
   ]
  },
  {
   "cell_type": "code",
   "execution_count": 12,
   "id": "ed86593a-5c8f-4aef-9e8b-ba5b9b3db175",
   "metadata": {},
   "outputs": [
    {
     "name": "stdout",
     "output_type": "stream",
     "text": [
      "[62 93 39 50 66 89 77 69 34 56 42 18]\n",
      "[[62 93 39 50]\n",
      " [66 89 77 69]\n",
      " [34 56 42 18]]\n"
     ]
    }
   ],
   "source": [
    "arr62=np.random.randint(1,100,12)\n",
    "print(arr62)\n",
    "arr63=arr62.reshape((3,4))\n",
    "print(arr63)"
   ]
  },
  {
   "cell_type": "code",
   "execution_count": null,
   "id": "59c4d667-5e0e-4437-9130-cf55c2938f41",
   "metadata": {},
   "outputs": [],
   "source": [
    "#Task 12: Transpose a 2D array and find its shape"
   ]
  },
  {
   "cell_type": "code",
   "execution_count": 16,
   "id": "4f8248d5-58ea-45e6-8320-61c4f9a3db49",
   "metadata": {},
   "outputs": [
    {
     "name": "stdout",
     "output_type": "stream",
     "text": [
      "[[25  3  4 53]\n",
      " [44 53 18  5]\n",
      " [40 23 47 43]]\n",
      "[[[25  3]\n",
      "  [ 4 53]\n",
      "  [44 53]]\n",
      "\n",
      " [[18  5]\n",
      "  [40 23]\n",
      "  [47 43]]]\n",
      "(3, 4)\n",
      "(2, 3, 2)\n"
     ]
    }
   ],
   "source": [
    "arr63=np.random.randint(2,60,(3,4))\n",
    "print(arr63)\n",
    "arr64=arr63.reshape(2,3,2)\n",
    "print(arr64)\n",
    "print(np.shape(arr63))\n",
    "print(np.shape(arr64))"
   ]
  },
  {
   "cell_type": "code",
   "execution_count": null,
   "id": "d4687dae-2e3e-4bb3-9cf6-d6e399fa75f2",
   "metadata": {},
   "outputs": [],
   "source": [
    "# Task 13: Flatten a 3D array (e.g., of shape (2, 3, 4)) into a 1D array."
   ]
  },
  {
   "cell_type": "code",
   "execution_count": 20,
   "id": "451532b3-2890-4616-9a8f-00810ca72475",
   "metadata": {},
   "outputs": [
    {
     "name": "stdout",
     "output_type": "stream",
     "text": [
      "3D array= [[[85 80 12]\n",
      "  [97 56 52]]\n",
      "\n",
      " [[36 60 24]\n",
      "  [11 49 99]]]\n",
      "reshaped 1 D array= [85 80 12 97 56 52 36 60 24 11 49 99]\n"
     ]
    }
   ],
   "source": [
    "arr62=np.random.randint(1,100,12)\n",
    "arr63=arr62.reshape(2,2,3)\n",
    "print('3D array=',arr63)\n",
    "arr64=arr63.reshape(12)\n",
    "print('reshaped 1 D array=',arr64)"
   ]
  },
  {
   "cell_type": "code",
   "execution_count": null,
   "id": "748cad96-1724-4652-89c4-c62dc2d09287",
   "metadata": {},
   "outputs": [],
   "source": []
  }
 ],
 "metadata": {
  "kernelspec": {
   "display_name": "Python 3 (ipykernel)",
   "language": "python",
   "name": "python3"
  },
  "language_info": {
   "codemirror_mode": {
    "name": "ipython",
    "version": 3
   },
   "file_extension": ".py",
   "mimetype": "text/x-python",
   "name": "python",
   "nbconvert_exporter": "python",
   "pygments_lexer": "ipython3",
   "version": "3.12.7"
  }
 },
 "nbformat": 4,
 "nbformat_minor": 5
}
