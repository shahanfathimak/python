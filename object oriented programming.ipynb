{
 "cells": [
  {
   "cell_type": "code",
   "execution_count": null,
   "id": "36b8d053-777d-4fc7-acbc-8a23466378f4",
   "metadata": {},
   "outputs": [],
   "source": [
    "#OBJECT ORIENTED PROGRAMMING"
   ]
  },
  {
   "cell_type": "code",
   "execution_count": null,
   "id": "0dae7cd9-7358-4a04-a30f-dd46bdeaec20",
   "metadata": {},
   "outputs": [],
   "source": [
    "#CLASS IS THE BLUEPRINT OF OBJECT"
   ]
  },
  {
   "cell_type": "code",
   "execution_count": null,
   "id": "73021f42-269c-45bf-8b01-c5eadd38604b",
   "metadata": {},
   "outputs": [],
   "source": [
    "#OBJECT IS MEMBER OF CLASS, EG: CLASS:ELECTRONICS, OBJECT:SMARTPHONE,LAPTOP,SMART WATCH\n",
    "#OBJECT ->PROPERTIES OR ATTRIBUTES AND METHOD OR FUNCTION\n",
    "#eg:class:vehicle object:car:properties:model name, colour, price fuction:START(),RUN(),STOP()"
   ]
  },
  {
   "cell_type": "code",
   "execution_count": null,
   "id": "ff649e0a-6447-4809-9942-5dd07f344557",
   "metadata": {},
   "outputs": [],
   "source": [
    "# ADVANTAGE:1. CODE REUSEABILITY"
   ]
  },
  {
   "cell_type": "code",
   "execution_count": 9,
   "id": "df38edc7-5f63-4b91-be0b-397ace10f79f",
   "metadata": {},
   "outputs": [
    {
     "name": "stdout",
     "output_type": "stream",
     "text": [
      "Maruthi Swift 500000 red\n",
      "Toyota Innova 600000 white\n",
      "Maruthi Swift Engine started\n",
      "Toyota Innova Engine started\n",
      "######updated details########\n",
      "Maruthi Swift 550000 red\n",
      "Toyota Innova 600000 yellow\n"
     ]
    }
   ],
   "source": [
    "class Cars:\n",
    "    def __init__(self,name,price,colour):\n",
    "         self.name=name\n",
    "         self.price=price\n",
    "         self.colour=colour\n",
    "    def start(self):\n",
    "        print(self.name+\" Engine started\")\n",
    "car1=Cars(\"Maruthi Swift\",500000,\"red\")\n",
    "car2=Cars(\"Toyota Innova\",600000,\"white\")\n",
    "print(car1.name,car1.price,car1.colour)\n",
    "print(car2.name,car2.price,car2.colour)\n",
    "car1.start()\n",
    "car2.start()\n",
    "car1.price=550000\n",
    "car2.colour=\"yellow\"\n",
    "print(\"######updated details########\")\n",
    "print(car1.name,car1.price,car1.colour)\n",
    "print(car2.name,car2.price,car2.colour)\n",
    "\n"
   ]
  },
  {
   "cell_type": "code",
   "execution_count": null,
   "id": "8ca730ac-32bc-4f2b-ada7-a9ff66e7629a",
   "metadata": {},
   "outputs": [],
   "source": [
    "# INHERITANCE IN PYTHON\n",
    "# PARENT CLASS -> CHILD CLASS"
   ]
  },
  {
   "cell_type": "code",
   "execution_count": 11,
   "id": "a86e667c-a242-43f3-b181-2eb9808290bd",
   "metadata": {},
   "outputs": [
    {
     "name": "stdout",
     "output_type": "stream",
     "text": [
      "Dr. John 9122200337\n",
      "Dr. Anil 9122200773\n"
     ]
    }
   ],
   "source": [
    "# parent class\n",
    "class Person:\n",
    "    def __init__(self, name, contact):\n",
    "        self.name= name\n",
    "        self.contact= contact\n",
    "    def address(self):\n",
    "        print(self.name, self.contact)\n",
    "# child class  \n",
    "class Doctor(Person):\n",
    "    pass\n",
    "class Patient(Person):\n",
    "    pass\n",
    "doc1=Doctor(\"Dr. John\",+9122200337)\n",
    "pat1=Doctor(\"Dr. Anil\",+9122200773)\n",
    "\n",
    "doc1.address()\n",
    "pat1.address()\n",
    "        "
   ]
  },
  {
   "cell_type": "code",
   "execution_count": null,
   "id": "5c4a0749-ae6c-4bc4-914e-59f3cab1445f",
   "metadata": {},
   "outputs": [],
   "source": []
  }
 ],
 "metadata": {
  "kernelspec": {
   "display_name": "Python 3 (ipykernel)",
   "language": "python",
   "name": "python3"
  },
  "language_info": {
   "codemirror_mode": {
    "name": "ipython",
    "version": 3
   },
   "file_extension": ".py",
   "mimetype": "text/x-python",
   "name": "python",
   "nbconvert_exporter": "python",
   "pygments_lexer": "ipython3",
   "version": "3.12.7"
  }
 },
 "nbformat": 4,
 "nbformat_minor": 5
}
