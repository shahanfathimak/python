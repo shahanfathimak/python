{
 "cells": [
  {
   "cell_type": "code",
   "execution_count": 1,
   "id": "1248d54d-d3b8-48a8-a89b-cea40f408f4e",
   "metadata": {},
   "outputs": [
    {
     "name": "stdin",
     "output_type": "stream",
     "text": [
      "Enter your name:  Shahan Fathima K\n",
      "Enter your email id:  shahanfathima300@gmail.com\n"
     ]
    }
   ],
   "source": [
    "name=input(\"Enter your name: \")\n",
    "email=input(\"Enter your email id: \")"
   ]
  },
  {
   "cell_type": "code",
   "execution_count": 2,
   "id": "4e9d1889-cfe7-4a20-9952-d1f72ea38f7a",
   "metadata": {},
   "outputs": [
    {
     "name": "stdin",
     "output_type": "stream",
     "text": [
      "enter the num1:  10\n",
      "enter the num2:  20\n"
     ]
    },
    {
     "name": "stdout",
     "output_type": "stream",
     "text": [
      "30\n"
     ]
    }
   ],
   "source": [
    "num1=int(input(\"enter the num1: \"))\n",
    "num2=int(input(\"enter the num2: \"))\n",
    "sum=num1+num2\n",
    "print(sum)"
   ]
  },
  {
   "cell_type": "code",
   "execution_count": null,
   "id": "9c0a7773-064e-43ae-8eec-4fd0be17695b",
   "metadata": {},
   "outputs": [],
   "source": []
  }
 ],
 "metadata": {
  "kernelspec": {
   "display_name": "Python 3 (ipykernel)",
   "language": "python",
   "name": "python3"
  },
  "language_info": {
   "codemirror_mode": {
    "name": "ipython",
    "version": 3
   },
   "file_extension": ".py",
   "mimetype": "text/x-python",
   "name": "python",
   "nbconvert_exporter": "python",
   "pygments_lexer": "ipython3",
   "version": "3.12.7"
  }
 },
 "nbformat": 4,
 "nbformat_minor": 5
}
