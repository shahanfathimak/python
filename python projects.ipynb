{
 "cells": [
  {
   "cell_type": "code",
   "execution_count": null,
   "id": "54f809c2-edb6-4e90-956d-21211d8a78e4",
   "metadata": {},
   "outputs": [],
   "source": [
    "#PYTHON PROJECTS"
   ]
  },
  {
   "cell_type": "code",
   "execution_count": null,
   "id": "568f7f49-0eaf-47df-bf9a-9359a0d1eb3c",
   "metadata": {},
   "outputs": [],
   "source": [
    "#1.SIMPLE CALCULATOR"
   ]
  },
  {
   "cell_type": "code",
   "execution_count": 2,
   "id": "b800899e-44eb-4903-9eed-17680e94cb2c",
   "metadata": {},
   "outputs": [
    {
     "name": "stdout",
     "output_type": "stream",
     "text": [
      "#########################\n",
      "CALCULATOR\n",
      "#########################\n",
      "1:ADD\n",
      "2:SUBSTRACT\n",
      "3:MULTIPLY\n",
      "4:DIVIDE\n",
      "5:EXIT\n"
     ]
    },
    {
     "name": "stdin",
     "output_type": "stream",
     "text": [
      "select your option:1,2,3,4,5 1\n",
      "enter the first number: 12\n",
      "enter the second number: 2\n"
     ]
    },
    {
     "name": "stdout",
     "output_type": "stream",
     "text": [
      "Result= 14\n",
      "#########################\n",
      "CALCULATOR\n",
      "#########################\n",
      "1:ADD\n",
      "2:SUBSTRACT\n",
      "3:MULTIPLY\n",
      "4:DIVIDE\n",
      "5:EXIT\n"
     ]
    },
    {
     "name": "stdin",
     "output_type": "stream",
     "text": [
      "select your option:1,2,3,4,5 5\n"
     ]
    },
    {
     "name": "stdout",
     "output_type": "stream",
     "text": [
      "Existing Program...!\n"
     ]
    }
   ],
   "source": [
    "def add(num1,num2):\n",
    "    return num1+num2\n",
    "def sub(num1,num2):\n",
    "    return num1-num2\n",
    "def mul(num1,num2):\n",
    "    return num1*num2\n",
    "def div(num1,num2):\n",
    "    return num1/num2\n",
    "while True:\n",
    "    print(\"#########################\")\n",
    "    print(\"CALCULATOR\")\n",
    "    print(\"#########################\")\n",
    "    print(\"1:ADD\")\n",
    "    print(\"2:SUBSTRACT\")\n",
    "    print(\"3:MULTIPLY\")\n",
    "    print(\"4:DIVIDE\")\n",
    "    print(\"5:EXIT\")\n",
    "    option=input(\"select your option:1,2,3,4,5:\")\n",
    "    if option=='5':\n",
    "        print(\"Existing Program...!\")\n",
    "        break\n",
    "    if option in ('1','2','3','4'):\n",
    "        num1=int(input(\"enter the first number:\"))\n",
    "        num2=int(input(\"enter the second number:\"))\n",
    "        if option=='1':\n",
    "            print(\"Result=\",add(num1,num2))\n",
    "        elif option=='2':\n",
    "            print(\"Result=\",sub(num1,num2))\n",
    "        elif option=='3':\n",
    "            print(\"Result=\",mul(num1,num2))\n",
    "        elif option=='4':\n",
    "            print(\"Result=\",div(num1,num2))\n",
    "    else:\n",
    "        print(\"Invalid option\")\n"
   ]
  },
  {
   "cell_type": "code",
   "execution_count": null,
   "id": "74376e51-dc2d-4b81-9065-5c30412244f6",
   "metadata": {},
   "outputs": [],
   "source": [
    "#ENUMERATE EXAMPLE"
   ]
  },
  {
   "cell_type": "code",
   "execution_count": 6,
   "id": "38224c14-ec30-4248-95a7-2a626d8f82a5",
   "metadata": {},
   "outputs": [
    {
     "name": "stdout",
     "output_type": "stream",
     "text": [
      "0 apple\n",
      "1 orange\n",
      "2 banana\n",
      "3 cherry\n"
     ]
    }
   ],
   "source": [
    "fruits=['apple','orange','banana','cherry']\n",
    "for index,fruit in enumerate(fruits):\n",
    "   print(index,fruit)"
   ]
  },
  {
   "cell_type": "code",
   "execution_count": null,
   "id": "9170cefe-99e7-4f2d-886f-5fde53a54f05",
   "metadata": {},
   "outputs": [],
   "source": [
    "#f String"
   ]
  },
  {
   "cell_type": "code",
   "execution_count": 7,
   "id": "32011cd5-2ef0-40d3-a7d6-612479655daf",
   "metadata": {},
   "outputs": [
    {
     "name": "stdout",
     "output_type": "stream",
     "text": [
      "my name is Alice and I am 30 year old.\n"
     ]
    }
   ],
   "source": [
    "name=\"Alice\"\n",
    "age=30\n",
    "greating=f\"my name is {name} and I am {age} year old.\"\n",
    "print(greating)\n"
   ]
  },
  {
   "cell_type": "code",
   "execution_count": null,
   "id": "608425d6-b81b-4768-92d8-369edf8c540a",
   "metadata": {},
   "outputs": [],
   "source": [
    "# To do app"
   ]
  },
  {
   "cell_type": "code",
   "execution_count": 4,
   "id": "afba21cb-5f4c-4e22-b80e-8c7ed85a8819",
   "metadata": {},
   "outputs": [
    {
     "name": "stdout",
     "output_type": "stream",
     "text": [
      "#####################\n",
      "To do list\n",
      "#####################\n",
      "1- Add to list\n",
      "2- Display list\n",
      "3- Remove from list\n",
      "4- Exit\n"
     ]
    },
    {
     "name": "stdin",
     "output_type": "stream",
     "text": [
      "Select your option:  1\n"
     ]
    },
    {
     "name": "stdout",
     "output_type": "stream",
     "text": [
      "Add\n"
     ]
    },
    {
     "name": "stdin",
     "output_type": "stream",
     "text": [
      "Enter a new task:  do projects\n"
     ]
    },
    {
     "name": "stdout",
     "output_type": "stream",
     "text": [
      "do projects is added to the todo list\n",
      "#####################\n",
      "To do list\n",
      "#####################\n",
      "1- Add to list\n",
      "2- Display list\n",
      "3- Remove from list\n",
      "4- Exit\n"
     ]
    },
    {
     "name": "stdin",
     "output_type": "stream",
     "text": [
      "Select your option:  1\n"
     ]
    },
    {
     "name": "stdout",
     "output_type": "stream",
     "text": [
      "Add\n"
     ]
    },
    {
     "name": "stdin",
     "output_type": "stream",
     "text": [
      "Enter a new task:  study open cv\n"
     ]
    },
    {
     "name": "stdout",
     "output_type": "stream",
     "text": [
      "study open cv is added to the todo list\n",
      "#####################\n",
      "To do list\n",
      "#####################\n",
      "1- Add to list\n",
      "2- Display list\n",
      "3- Remove from list\n",
      "4- Exit\n"
     ]
    },
    {
     "name": "stdin",
     "output_type": "stream",
     "text": [
      "Select your option:  study pictoblox\n"
     ]
    },
    {
     "name": "stdout",
     "output_type": "stream",
     "text": [
      "Invalid option selected\n",
      "#####################\n",
      "To do list\n",
      "#####################\n",
      "1- Add to list\n",
      "2- Display list\n",
      "3- Remove from list\n",
      "4- Exit\n"
     ]
    },
    {
     "name": "stdin",
     "output_type": "stream",
     "text": [
      "Select your option:  learn new things\n"
     ]
    },
    {
     "name": "stdout",
     "output_type": "stream",
     "text": [
      "Invalid option selected\n",
      "#####################\n",
      "To do list\n",
      "#####################\n",
      "1- Add to list\n",
      "2- Display list\n",
      "3- Remove from list\n",
      "4- Exit\n"
     ]
    },
    {
     "name": "stdin",
     "output_type": "stream",
     "text": [
      "Select your option:  1\n"
     ]
    },
    {
     "name": "stdout",
     "output_type": "stream",
     "text": [
      "Add\n"
     ]
    },
    {
     "name": "stdin",
     "output_type": "stream",
     "text": [
      "Enter a new task:  love noble\n"
     ]
    },
    {
     "name": "stdout",
     "output_type": "stream",
     "text": [
      "love noble is added to the todo list\n",
      "#####################\n",
      "To do list\n",
      "#####################\n",
      "1- Add to list\n",
      "2- Display list\n",
      "3- Remove from list\n",
      "4- Exit\n"
     ]
    },
    {
     "name": "stdin",
     "output_type": "stream",
     "text": [
      "Select your option:  2\n"
     ]
    },
    {
     "name": "stdout",
     "output_type": "stream",
     "text": [
      "Display\n",
      "#####################\n",
      "To do list\n",
      "#####################\n",
      "1-do projects\n",
      "2-study open cv\n",
      "3-love noble\n",
      "#####################\n",
      "To do list\n",
      "#####################\n",
      "1- Add to list\n",
      "2- Display list\n",
      "3- Remove from list\n",
      "4- Exit\n"
     ]
    },
    {
     "name": "stdin",
     "output_type": "stream",
     "text": [
      "Select your option:  3\n"
     ]
    },
    {
     "name": "stdout",
     "output_type": "stream",
     "text": [
      "Remove\n",
      "#####################\n",
      "To do list\n",
      "#####################\n",
      "1-do projects\n",
      "2-study open cv\n",
      "3-love noble\n"
     ]
    },
    {
     "name": "stdin",
     "output_type": "stream",
     "text": [
      "Enter your item number to remove 1\n"
     ]
    },
    {
     "name": "stdout",
     "output_type": "stream",
     "text": [
      "#####################\n",
      "To do list\n",
      "#####################\n",
      "1- Add to list\n",
      "2- Display list\n",
      "3- Remove from list\n",
      "4- Exit\n"
     ]
    },
    {
     "name": "stdin",
     "output_type": "stream",
     "text": [
      "Select your option:  2\n"
     ]
    },
    {
     "name": "stdout",
     "output_type": "stream",
     "text": [
      "Display\n",
      "#####################\n",
      "To do list\n",
      "#####################\n",
      "1-study open cv\n",
      "2-love noble\n",
      "#####################\n",
      "To do list\n",
      "#####################\n",
      "1- Add to list\n",
      "2- Display list\n",
      "3- Remove from list\n",
      "4- Exit\n"
     ]
    },
    {
     "name": "stdin",
     "output_type": "stream",
     "text": [
      "Select your option:  4\n"
     ]
    },
    {
     "name": "stdout",
     "output_type": "stream",
     "text": [
      "Exit\n"
     ]
    }
   ],
   "source": [
    "#### todo_list=[]\n",
    "def addlist():\n",
    "   item=input(\"Enter a new task: \")\n",
    "   todo_list.append(item)\n",
    "   print(f\"{item} is added to the todo list\")\n",
    "def displaylist():\n",
    "    print(\"#####################\")\n",
    "    print(\"To do list\")\n",
    "    print(\"#####################\")\n",
    "    for index,item in enumerate(todo_list,start=1):\n",
    "        print(f\"{index}-{item}\")\n",
    "def removelist():\n",
    "    displaylist()\n",
    "    index=int(input(\"Enter your item number to remove\"))-1\n",
    "    if 0<= index<len(todo_list):\n",
    "        todo_list.pop(index)\n",
    "    else:\n",
    "        print(\"Invalid index number\")\n",
    "    \n",
    "while True:\n",
    "    print(\"#####################\")\n",
    "    print(\"To do list\")\n",
    "    print(\"#####################\")\n",
    "    print(\"1- Add to list\")\n",
    "    print(\"2- Display list\")\n",
    "    print(\"3- Remove from list\")\n",
    "    print(\"4- Exit\")\n",
    "    \n",
    "    option = input(\"Select your option: \")\n",
    "    \n",
    "    if option == '1':\n",
    "        print(\"Add\")\n",
    "        addlist()\n",
    "    elif option == '2':\n",
    "        print(\"Display\")\n",
    "        displaylist()\n",
    "    elif option == '3':\n",
    "        print(\"Remove\")\n",
    "        removelist()\n",
    "    elif option == '4':\n",
    "        print(\"Exit\")\n",
    "        break\n",
    "    else:\n",
    "        print(\"Invalid option selected\")\n",
    "    "
   ]
  },
  {
   "cell_type": "code",
   "execution_count": null,
   "id": "c68863c1-3cf9-44cc-8ea6-b34e4197b177",
   "metadata": {},
   "outputs": [],
   "source": [
    "#3.Password Generator\n",
    "#strong password:uppercase, lowercase, numbers,symbols\n",
    "  "
   ]
  },
  {
   "cell_type": "code",
   "execution_count": 5,
   "id": "863c9d74-8e25-4f72-aab4-63444fce84a5",
   "metadata": {},
   "outputs": [
    {
     "name": "stdin",
     "output_type": "stream",
     "text": [
      "Enter the lenght of passward 10\n",
      "include uppercase yes/no yes\n",
      "include lowercase yes/no yes\n",
      "include numbers yes/no yes\n",
      "include symbols yes/no yes\n"
     ]
    },
    {
     "ename": "AttributeError",
     "evalue": "module 'string' has no attribute 'ascii_digit'",
     "output_type": "error",
     "traceback": [
      "\u001b[1;31m---------------------------------------------------------------------------\u001b[0m",
      "\u001b[1;31mAttributeError\u001b[0m                            Traceback (most recent call last)",
      "Cell \u001b[1;32mIn[5], line 24\u001b[0m\n\u001b[0;32m     22\u001b[0m number\u001b[38;5;241m=\u001b[39m\u001b[38;5;28minput\u001b[39m(\u001b[38;5;124m\"\u001b[39m\u001b[38;5;124minclude numbers yes/no\u001b[39m\u001b[38;5;124m\"\u001b[39m)\u001b[38;5;241m.\u001b[39mlower()\u001b[38;5;241m==\u001b[39m\u001b[38;5;124m'\u001b[39m\u001b[38;5;124myes\u001b[39m\u001b[38;5;124m'\u001b[39m\n\u001b[0;32m     23\u001b[0m symbol\u001b[38;5;241m=\u001b[39m\u001b[38;5;28minput\u001b[39m(\u001b[38;5;124m\"\u001b[39m\u001b[38;5;124minclude symbols yes/no\u001b[39m\u001b[38;5;124m\"\u001b[39m)\u001b[38;5;241m.\u001b[39mlower()\u001b[38;5;241m==\u001b[39m\u001b[38;5;124m'\u001b[39m\u001b[38;5;124myes\u001b[39m\u001b[38;5;124m'\u001b[39m\n\u001b[1;32m---> 24\u001b[0m password\u001b[38;5;241m=\u001b[39mgenerate_password(length,uppercase,lowercase,number,symbol)\n\u001b[0;32m     25\u001b[0m \u001b[38;5;28mprint\u001b[39m(password)\n",
      "Cell \u001b[1;32mIn[5], line 10\u001b[0m, in \u001b[0;36mgenerate_password\u001b[1;34m(length, uppercase, lowercase, number, symbol)\u001b[0m\n\u001b[0;32m      8\u001b[0m     characters \u001b[38;5;241m+\u001b[39m\u001b[38;5;241m=\u001b[39mstring\u001b[38;5;241m.\u001b[39mascii_lowercase\n\u001b[0;32m      9\u001b[0m \u001b[38;5;28;01mif\u001b[39;00m number:\n\u001b[1;32m---> 10\u001b[0m     characters \u001b[38;5;241m+\u001b[39m\u001b[38;5;241m=\u001b[39mstring\u001b[38;5;241m.\u001b[39mascii_digit\n\u001b[0;32m     11\u001b[0m \u001b[38;5;28;01mif\u001b[39;00m symbol:\n\u001b[0;32m     12\u001b[0m     characters \u001b[38;5;241m+\u001b[39m\u001b[38;5;241m=\u001b[39mstring\u001b[38;5;241m.\u001b[39mascii_punctuation\n",
      "\u001b[1;31mAttributeError\u001b[0m: module 'string' has no attribute 'ascii_digit'"
     ]
    }
   ],
   "source": [
    "import random\n",
    "import string\n",
    "def generate_password(length,uppercase,lowercase,number,symbol):\n",
    "    characters=''\n",
    "    if uppercase:\n",
    "        characters +=string.ascii_uppercase\n",
    "    if lowercase:\n",
    "        characters +=string.ascii_lowercase\n",
    "    if number:\n",
    "        characters +=string.ascii_digit\n",
    "    if symbol:\n",
    "        characters +=string.ascii_punctuation\n",
    "    if not  characters:\n",
    "        print(\"Error, no characters found: \")\n",
    "    password=''.join(random.choice(characters) for ln in range(length))\n",
    "    return password\n",
    "    \n",
    "        \n",
    "length=int(input(\"Enter the lenght of passward\"))\n",
    "uppercase=input(\"include uppercase yes/no\").lower()=='yes'\n",
    "lowercase=input(\"include lowercase yes/no\").lower()=='yes'\n",
    "number=input(\"include numbers yes/no\").lower()=='yes'\n",
    "symbol=input(\"include symbols yes/no\").lower()=='yes'\n",
    "password=generate_password(length,uppercase,lowercase,number,symbol)\n",
    "print(password)"
   ]
  },
  {
   "cell_type": "code",
   "execution_count": 6,
   "id": "a67986d8-9bbf-4d4e-8992-e4fe8c0131af",
   "metadata": {},
   "outputs": [
    {
     "name": "stdin",
     "output_type": "stream",
     "text": [
      "Enter the length of the password:  10\n",
      "Include uppercase letters? (yes/no):  yes\n",
      "Include lowercase letters? (yes/no):  yes\n",
      "Include numbers? (yes/no):  yes\n",
      "Include symbols? (yes/no):  yes\n"
     ]
    },
    {
     "name": "stdout",
     "output_type": "stream",
     "text": [
      "Generated Password: ifEqaJ*s&_\n"
     ]
    }
   ],
   "source": [
    "import random\n",
    "import string\n",
    "\n",
    "def generate_password(length, uppercase, lowercase, number, symbol):\n",
    "    characters = ''\n",
    "    \n",
    "    if uppercase:\n",
    "        characters += string.ascii_uppercase\n",
    "    if lowercase:\n",
    "        characters += string.ascii_lowercase\n",
    "    if number:\n",
    "        characters += string.digits\n",
    "    if symbol:\n",
    "        characters += string.punctuation\n",
    "    \n",
    "    if not characters:\n",
    "        return \"Error: No character types selected to generate a password.\"\n",
    "    \n",
    "    password = ''.join(random.choice(characters) for _ in range(length))\n",
    "    return password\n",
    "\n",
    "# Input from user\n",
    "length = int(input(\"Enter the length of the password: \"))\n",
    "uppercase = input(\"Include uppercase letters? (yes/no): \").lower() == 'yes'\n",
    "lowercase = input(\"Include lowercase letters? (yes/no): \").lower() == 'yes'\n",
    "number = input(\"Include numbers? (yes/no): \").lower() == 'yes'\n",
    "symbol = input(\"Include symbols? (yes/no): \").lower() == 'yes'\n",
    "\n",
    "# Generate and print the password\n",
    "password = generate_password(length, uppercase, lowercase, number, symbol)\n",
    "print(\"Generated Password:\", password)"
   ]
  },
  {
   "cell_type": "code",
   "execution_count": null,
   "id": "139f9447-1357-4a62-a1a2-9405c432f9d1",
   "metadata": {},
   "outputs": [],
   "source": []
  }
 ],
 "metadata": {
  "kernelspec": {
   "display_name": "Python 3 (ipykernel)",
   "language": "python",
   "name": "python3"
  },
  "language_info": {
   "codemirror_mode": {
    "name": "ipython",
    "version": 3
   },
   "file_extension": ".py",
   "mimetype": "text/x-python",
   "name": "python",
   "nbconvert_exporter": "python",
   "pygments_lexer": "ipython3",
   "version": "3.12.7"
  }
 },
 "nbformat": 4,
 "nbformat_minor": 5
}
